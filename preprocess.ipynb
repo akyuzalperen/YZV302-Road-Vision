{
 "cells": [
  {
   "cell_type": "code",
   "execution_count": 3,
   "id": "6a4ca3ef-2205-4b6a-a5ff-b3ffa3cf086d",
   "metadata": {},
   "outputs": [
    {
     "name": "stdout",
     "output_type": "stream",
     "text": [
      "Requirement already satisfied: pillow in c:\\users\\melisa\\anaconda3\\lib\\site-packages (8.2.0)\n",
      "Note: you may need to restart the kernel to use updated packages.\n"
     ]
    }
   ],
   "source": [
    "#pip install pillow"
   ]
  },
  {
   "cell_type": "code",
   "execution_count": 7,
   "id": "affc6411-4850-4361-87c1-ccabed5e78b3",
   "metadata": {},
   "outputs": [
    {
     "name": "stdout",
     "output_type": "stream",
     "text": [
      "Collecting pyheif\n",
      "  Downloading pyheif-0.7.1.tar.gz (22 kB)\n",
      "Requirement already satisfied: pillow in c:\\users\\melisa\\anaconda3\\lib\\site-packages (8.2.0)\n",
      "Requirement already satisfied: cffi>=1.0.0 in c:\\users\\melisa\\anaconda3\\lib\\site-packages (from pyheif) (1.14.5)\n",
      "Requirement already satisfied: pycparser in c:\\users\\melisa\\anaconda3\\lib\\site-packages (from cffi>=1.0.0->pyheif) (2.20)\n",
      "Building wheels for collected packages: pyheif\n",
      "  Building wheel for pyheif (setup.py): started\n",
      "  Building wheel for pyheif (setup.py): finished with status 'error'\n",
      "  Running setup.py clean for pyheif\n",
      "Failed to build pyheif\n",
      "Installing collected packages: pyheif\n",
      "    Running setup.py install for pyheif: started\n",
      "    Running setup.py install for pyheif: finished with status 'error'\n",
      "Note: you may need to restart the kernel to use updated packages.\n"
     ]
    },
    {
     "name": "stderr",
     "output_type": "stream",
     "text": [
      "  ERROR: Command errored out with exit status 1:\n",
      "   command: 'C:\\Users\\Melisa\\Anaconda3\\python.exe' -u -c 'import sys, setuptools, tokenize; sys.argv[0] = '\"'\"'C:\\\\Users\\\\Melisa\\\\AppData\\\\Local\\\\Temp\\\\pip-install-wq6mmx5x\\\\pyheif_7d87d5d01e614ae18f01876d647c46e6\\\\setup.py'\"'\"'; __file__='\"'\"'C:\\\\Users\\\\Melisa\\\\AppData\\\\Local\\\\Temp\\\\pip-install-wq6mmx5x\\\\pyheif_7d87d5d01e614ae18f01876d647c46e6\\\\setup.py'\"'\"';f=getattr(tokenize, '\"'\"'open'\"'\"', open)(__file__);code=f.read().replace('\"'\"'\\r\\n'\"'\"', '\"'\"'\\n'\"'\"');f.close();exec(compile(code, __file__, '\"'\"'exec'\"'\"'))' bdist_wheel -d 'C:\\Users\\Melisa\\AppData\\Local\\Temp\\pip-wheel-hblf20rn'\n",
      "       cwd: C:\\Users\\Melisa\\AppData\\Local\\Temp\\pip-install-wq6mmx5x\\pyheif_7d87d5d01e614ae18f01876d647c46e6\\\n",
      "  Complete output (25 lines):\n",
      "  running bdist_wheel\n",
      "  running build\n",
      "  running build_py\n",
      "  creating build\n",
      "  creating build\\lib.win-amd64-3.8\n",
      "  creating build\\lib.win-amd64-3.8\\pyheif\n",
      "  copying pyheif\\constants.py -> build\\lib.win-amd64-3.8\\pyheif\n",
      "  copying pyheif\\error.py -> build\\lib.win-amd64-3.8\\pyheif\n",
      "  copying pyheif\\reader.py -> build\\lib.win-amd64-3.8\\pyheif\n",
      "  copying pyheif\\writer.py -> build\\lib.win-amd64-3.8\\pyheif\n",
      "  copying pyheif\\__init__.py -> build\\lib.win-amd64-3.8\\pyheif\n",
      "  creating build\\lib.win-amd64-3.8\\pyheif\\data\n",
      "  copying pyheif\\data\\version.txt -> build\\lib.win-amd64-3.8\\pyheif\\data\n",
      "  running build_ext\n",
      "  generating cffi module 'build\\\\temp.win-amd64-3.8\\\\Release\\\\_libheif_cffi.c'\n",
      "  creating build\\temp.win-amd64-3.8\n",
      "  creating build\\temp.win-amd64-3.8\\Release\n",
      "  building '_libheif_cffi' extension\n",
      "  creating build\\temp.win-amd64-3.8\\Release\\build\n",
      "  creating build\\temp.win-amd64-3.8\\Release\\build\\temp.win-amd64-3.8\n",
      "  creating build\\temp.win-amd64-3.8\\Release\\build\\temp.win-amd64-3.8\\Release\n",
      "  C:\\Program Files (x86)\\Microsoft Visual Studio\\2022\\BuildTools\\VC\\Tools\\MSVC\\14.33.31629\\bin\\HostX86\\x64\\cl.exe /c /nologo /Ox /W3 /GL /DNDEBUG /MD -I/usr/local/include -I/usr/include -I/opt/local/include -IC:\\Users\\Melisa\\Anaconda3\\include -IC:\\Users\\Melisa\\Anaconda3\\include \"-IC:\\Program Files (x86)\\Microsoft Visual Studio\\2022\\BuildTools\\VC\\Tools\\MSVC\\14.33.31629\\include\" \"-IC:\\Program Files (x86)\\Microsoft Visual Studio\\2022\\BuildTools\\VC\\Auxiliary\\VS\\include\" \"-IC:\\Program Files (x86)\\Windows Kits\\10\\include\\10.0.19041.0\\ucrt\" \"-IC:\\Program Files (x86)\\Windows Kits\\10\\\\include\\10.0.19041.0\\\\um\" \"-IC:\\Program Files (x86)\\Windows Kits\\10\\\\include\\10.0.19041.0\\\\shared\" \"-IC:\\Program Files (x86)\\Windows Kits\\10\\\\include\\10.0.19041.0\\\\winrt\" \"-IC:\\Program Files (x86)\\Windows Kits\\10\\\\include\\10.0.19041.0\\\\cppwinrt\" /Tcbuild\\temp.win-amd64-3.8\\Release\\_libheif_cffi.c /Fobuild\\temp.win-amd64-3.8\\Release\\build\\temp.win-amd64-3.8\\Release\\_libheif_cffi.obj\n",
      "  _libheif_cffi.c\n",
      "  build\\temp.win-amd64-3.8\\Release\\_libheif_cffi.c(570): fatal error C1083: Cannot open include file: 'libheif/heif.h': No such file or directory\n",
      "  error: command 'C:\\\\Program Files (x86)\\\\Microsoft Visual Studio\\\\2022\\\\BuildTools\\\\VC\\\\Tools\\\\MSVC\\\\14.33.31629\\\\bin\\\\HostX86\\\\x64\\\\cl.exe' failed with exit status 2\n",
      "  ----------------------------------------\n",
      "  ERROR: Failed building wheel for pyheif\n",
      "    ERROR: Command errored out with exit status 1:\n",
      "     command: 'C:\\Users\\Melisa\\Anaconda3\\python.exe' -u -c 'import sys, setuptools, tokenize; sys.argv[0] = '\"'\"'C:\\\\Users\\\\Melisa\\\\AppData\\\\Local\\\\Temp\\\\pip-install-wq6mmx5x\\\\pyheif_7d87d5d01e614ae18f01876d647c46e6\\\\setup.py'\"'\"'; __file__='\"'\"'C:\\\\Users\\\\Melisa\\\\AppData\\\\Local\\\\Temp\\\\pip-install-wq6mmx5x\\\\pyheif_7d87d5d01e614ae18f01876d647c46e6\\\\setup.py'\"'\"';f=getattr(tokenize, '\"'\"'open'\"'\"', open)(__file__);code=f.read().replace('\"'\"'\\r\\n'\"'\"', '\"'\"'\\n'\"'\"');f.close();exec(compile(code, __file__, '\"'\"'exec'\"'\"'))' install --record 'C:\\Users\\Melisa\\AppData\\Local\\Temp\\pip-record-ex7s6wbe\\install-record.txt' --single-version-externally-managed --compile --install-headers 'C:\\Users\\Melisa\\Anaconda3\\Include\\pyheif'\n",
      "         cwd: C:\\Users\\Melisa\\AppData\\Local\\Temp\\pip-install-wq6mmx5x\\pyheif_7d87d5d01e614ae18f01876d647c46e6\\\n",
      "    Complete output (25 lines):\n",
      "    running install\n",
      "    running build\n",
      "    running build_py\n",
      "    creating build\n",
      "    creating build\\lib.win-amd64-3.8\n",
      "    creating build\\lib.win-amd64-3.8\\pyheif\n",
      "    copying pyheif\\constants.py -> build\\lib.win-amd64-3.8\\pyheif\n",
      "    copying pyheif\\error.py -> build\\lib.win-amd64-3.8\\pyheif\n",
      "    copying pyheif\\reader.py -> build\\lib.win-amd64-3.8\\pyheif\n",
      "    copying pyheif\\writer.py -> build\\lib.win-amd64-3.8\\pyheif\n",
      "    copying pyheif\\__init__.py -> build\\lib.win-amd64-3.8\\pyheif\n",
      "    creating build\\lib.win-amd64-3.8\\pyheif\\data\n",
      "    copying pyheif\\data\\version.txt -> build\\lib.win-amd64-3.8\\pyheif\\data\n",
      "    running build_ext\n",
      "    generating cffi module 'build\\\\temp.win-amd64-3.8\\\\Release\\\\_libheif_cffi.c'\n",
      "    creating build\\temp.win-amd64-3.8\n",
      "    creating build\\temp.win-amd64-3.8\\Release\n",
      "    building '_libheif_cffi' extension\n",
      "    creating build\\temp.win-amd64-3.8\\Release\\build\n",
      "    creating build\\temp.win-amd64-3.8\\Release\\build\\temp.win-amd64-3.8\n",
      "    creating build\\temp.win-amd64-3.8\\Release\\build\\temp.win-amd64-3.8\\Release\n",
      "    C:\\Program Files (x86)\\Microsoft Visual Studio\\2022\\BuildTools\\VC\\Tools\\MSVC\\14.33.31629\\bin\\HostX86\\x64\\cl.exe /c /nologo /Ox /W3 /GL /DNDEBUG /MD -I/usr/local/include -I/usr/include -I/opt/local/include -IC:\\Users\\Melisa\\Anaconda3\\include -IC:\\Users\\Melisa\\Anaconda3\\include \"-IC:\\Program Files (x86)\\Microsoft Visual Studio\\2022\\BuildTools\\VC\\Tools\\MSVC\\14.33.31629\\include\" \"-IC:\\Program Files (x86)\\Microsoft Visual Studio\\2022\\BuildTools\\VC\\Auxiliary\\VS\\include\" \"-IC:\\Program Files (x86)\\Windows Kits\\10\\include\\10.0.19041.0\\ucrt\" \"-IC:\\Program Files (x86)\\Windows Kits\\10\\\\include\\10.0.19041.0\\\\um\" \"-IC:\\Program Files (x86)\\Windows Kits\\10\\\\include\\10.0.19041.0\\\\shared\" \"-IC:\\Program Files (x86)\\Windows Kits\\10\\\\include\\10.0.19041.0\\\\winrt\" \"-IC:\\Program Files (x86)\\Windows Kits\\10\\\\include\\10.0.19041.0\\\\cppwinrt\" /Tcbuild\\temp.win-amd64-3.8\\Release\\_libheif_cffi.c /Fobuild\\temp.win-amd64-3.8\\Release\\build\\temp.win-amd64-3.8\\Release\\_libheif_cffi.obj\n",
      "    _libheif_cffi.c\n",
      "    build\\temp.win-amd64-3.8\\Release\\_libheif_cffi.c(570): fatal error C1083: Cannot open include file: 'libheif/heif.h': No such file or directory\n",
      "    error: command 'C:\\\\Program Files (x86)\\\\Microsoft Visual Studio\\\\2022\\\\BuildTools\\\\VC\\\\Tools\\\\MSVC\\\\14.33.31629\\\\bin\\\\HostX86\\\\x64\\\\cl.exe' failed with exit status 2\n",
      "    ----------------------------------------\n",
      "ERROR: Command errored out with exit status 1: 'C:\\Users\\Melisa\\Anaconda3\\python.exe' -u -c 'import sys, setuptools, tokenize; sys.argv[0] = '\"'\"'C:\\\\Users\\\\Melisa\\\\AppData\\\\Local\\\\Temp\\\\pip-install-wq6mmx5x\\\\pyheif_7d87d5d01e614ae18f01876d647c46e6\\\\setup.py'\"'\"'; __file__='\"'\"'C:\\\\Users\\\\Melisa\\\\AppData\\\\Local\\\\Temp\\\\pip-install-wq6mmx5x\\\\pyheif_7d87d5d01e614ae18f01876d647c46e6\\\\setup.py'\"'\"';f=getattr(tokenize, '\"'\"'open'\"'\"', open)(__file__);code=f.read().replace('\"'\"'\\r\\n'\"'\"', '\"'\"'\\n'\"'\"');f.close();exec(compile(code, __file__, '\"'\"'exec'\"'\"'))' install --record 'C:\\Users\\Melisa\\AppData\\Local\\Temp\\pip-record-ex7s6wbe\\install-record.txt' --single-version-externally-managed --compile --install-headers 'C:\\Users\\Melisa\\Anaconda3\\Include\\pyheif' Check the logs for full command output.\n"
     ]
    }
   ],
   "source": [
    "#pip install pyheif pillow"
   ]
  },
  {
   "cell_type": "code",
   "execution_count": 8,
   "id": "6b596e0c-454f-4f66-9939-7e43db861ee5",
   "metadata": {},
   "outputs": [
    {
     "ename": "UnidentifiedImageError",
     "evalue": "cannot identify image file '../data/raw\\\\IMG_2860.jpg'",
     "output_type": "error",
     "traceback": [
      "\u001b[1;31m---------------------------------------------------------------------------\u001b[0m",
      "\u001b[1;31mUnidentifiedImageError\u001b[0m                    Traceback (most recent call last)",
      "\u001b[1;32m<ipython-input-8-d646defb297f>\u001b[0m in \u001b[0;36m<module>\u001b[1;34m\u001b[0m\n\u001b[0;32m     15\u001b[0m \u001b[1;32mfor\u001b[0m \u001b[0mimage_file\u001b[0m \u001b[1;32min\u001b[0m \u001b[0mos\u001b[0m\u001b[1;33m.\u001b[0m\u001b[0mlistdir\u001b[0m\u001b[1;33m(\u001b[0m\u001b[0mimage_folder\u001b[0m\u001b[1;33m)\u001b[0m\u001b[1;33m:\u001b[0m\u001b[1;33m\u001b[0m\u001b[1;33m\u001b[0m\u001b[0m\n\u001b[0;32m     16\u001b[0m     \u001b[0mimage_path\u001b[0m \u001b[1;33m=\u001b[0m \u001b[0mos\u001b[0m\u001b[1;33m.\u001b[0m\u001b[0mpath\u001b[0m\u001b[1;33m.\u001b[0m\u001b[0mjoin\u001b[0m\u001b[1;33m(\u001b[0m\u001b[0mimage_folder\u001b[0m\u001b[1;33m,\u001b[0m \u001b[0mimage_file\u001b[0m\u001b[1;33m)\u001b[0m\u001b[1;33m\u001b[0m\u001b[1;33m\u001b[0m\u001b[0m\n\u001b[1;32m---> 17\u001b[1;33m     \u001b[0mimg\u001b[0m \u001b[1;33m=\u001b[0m \u001b[0mImage\u001b[0m\u001b[1;33m.\u001b[0m\u001b[0mopen\u001b[0m\u001b[1;33m(\u001b[0m\u001b[0mimage_path\u001b[0m\u001b[1;33m)\u001b[0m\u001b[1;33m\u001b[0m\u001b[1;33m\u001b[0m\u001b[0m\n\u001b[0m\u001b[0;32m     18\u001b[0m \u001b[1;33m\u001b[0m\u001b[0m\n\u001b[0;32m     19\u001b[0m     \u001b[1;31m# Resize the image\u001b[0m\u001b[1;33m\u001b[0m\u001b[1;33m\u001b[0m\u001b[1;33m\u001b[0m\u001b[0m\n",
      "\u001b[1;32m~\\Anaconda3\\lib\\site-packages\\PIL\\Image.py\u001b[0m in \u001b[0;36mopen\u001b[1;34m(fp, mode, formats)\u001b[0m\n\u001b[0;32m   2965\u001b[0m     \u001b[1;32mfor\u001b[0m \u001b[0mmessage\u001b[0m \u001b[1;32min\u001b[0m \u001b[0maccept_warnings\u001b[0m\u001b[1;33m:\u001b[0m\u001b[1;33m\u001b[0m\u001b[1;33m\u001b[0m\u001b[0m\n\u001b[0;32m   2966\u001b[0m         \u001b[0mwarnings\u001b[0m\u001b[1;33m.\u001b[0m\u001b[0mwarn\u001b[0m\u001b[1;33m(\u001b[0m\u001b[0mmessage\u001b[0m\u001b[1;33m)\u001b[0m\u001b[1;33m\u001b[0m\u001b[1;33m\u001b[0m\u001b[0m\n\u001b[1;32m-> 2967\u001b[1;33m     raise UnidentifiedImageError(\n\u001b[0m\u001b[0;32m   2968\u001b[0m         \u001b[1;34m\"cannot identify image file %r\"\u001b[0m \u001b[1;33m%\u001b[0m \u001b[1;33m(\u001b[0m\u001b[0mfilename\u001b[0m \u001b[1;32mif\u001b[0m \u001b[0mfilename\u001b[0m \u001b[1;32melse\u001b[0m \u001b[0mfp\u001b[0m\u001b[1;33m)\u001b[0m\u001b[1;33m\u001b[0m\u001b[1;33m\u001b[0m\u001b[0m\n\u001b[0;32m   2969\u001b[0m     )\n",
      "\u001b[1;31mUnidentifiedImageError\u001b[0m: cannot identify image file '../data/raw\\\\IMG_2860.jpg'"
     ]
    }
   ],
   "source": [
    "#GÖRSELLERİ 500X500'E KÜÇÜLT\n",
    "\n",
    "from PIL import Image\n",
    "import os\n",
    "\n",
    "\n",
    "\n",
    "target_size = (500, 500)\n",
    "os.makedirs(\"../data/resized500\", exist_ok=True)\n",
    "\n",
    "#tüm fotoğrafları iterate et hepsini küçült\n",
    "for image_file in os.listdir(\"../data/raw\"):\n",
    "    image_path = os.path.join(\"../data/raw\", image_file)\n",
    "    img = Image.open(image_path)\n",
    "    img_resized = img.resize(target_size)\n",
    "\n",
    "    #kaydet\n",
    "    output_path = os.path.join(\"../data/resized500\", image_file)\n",
    "    img_resized.save(output_path)\n",
    "\n",
    "print(\"Image resizing complete.\")"
   ]
  },
  {
   "cell_type": "markdown",
   "id": "5a013ee7-9652-4ea4-975c-851bbacddfa8",
   "metadata": {},
   "source": [
    "# FIRST CNN - DETECT WHETHER OR NOT THE IMAGE HAS TRAFFIC SIGNS"
   ]
  },
  {
   "cell_type": "code",
   "execution_count": 9,
   "id": "0025c424-4415-4199-be27-515b22509ec8",
   "metadata": {},
   "outputs": [],
   "source": [
    "import tensorflow as tf\n",
    "from tensorflow.keras.preprocessing.image import ImageDataGenerator"
   ]
  },
  {
   "cell_type": "markdown",
   "id": "2941fb12-b540-40f9-bfb4-70b31e1d963c",
   "metadata": {},
   "source": [
    "### Image preprocessing"
   ]
  },
  {
   "cell_type": "code",
   "execution_count": 21,
   "id": "9171e1bd-8d0a-4c8a-a2eb-c7fb4d0eb027",
   "metadata": {},
   "outputs": [
    {
     "name": "stdout",
     "output_type": "stream",
     "text": [
      "Found 48 images belonging to 2 classes.\n",
      "Found 11 images belonging to 2 classes.\n"
     ]
    }
   ],
   "source": [
    "#low shear and zoom range at first, this can be changed later? valid split 0.2 for now\n",
    "datagen = ImageDataGenerator(rescale=1./255, shear_range=0.1,zoom_range=0.05, horizontal_flip=True, validation_split=0.2)\n",
    "\n",
    "#train and test generators\n",
    "train_gen = datagen.flow_from_directory(\"../data/resized500\",target_size=(500, 500), batch_size=32,class_mode='binary',subset='training')\n",
    "\n",
    "validation_gen = datagen.flow_from_directory(\"../data/resized500\",target_size=(500, 500), batch_size=32,class_mode='binary',subset='validation')"
   ]
  },
  {
   "cell_type": "markdown",
   "id": "9f4f345e-d337-4945-a730-5f34df95d7b3",
   "metadata": {},
   "source": [
    "### TODO: Build CNN"
   ]
  },
  {
   "cell_type": "markdown",
   "id": "83b918f6-2d1b-4da3-b3a0-f268328cc4f5",
   "metadata": {},
   "source": [
    "### TODO: Evaluate & Adjust hyperparameters"
   ]
  },
  {
   "cell_type": "markdown",
   "id": "e0fdf586-08e5-4d73-87e1-1b18a5889120",
   "metadata": {},
   "source": [
    "# Second CNN - Detect which traffic sign is in the image"
   ]
  },
  {
   "cell_type": "code",
   "execution_count": null,
   "id": "77beba15-6929-40bb-918c-e9f0d1188568",
   "metadata": {},
   "outputs": [],
   "source": []
  }
 ],
 "metadata": {
  "kernelspec": {
   "display_name": "Python 3",
   "language": "python",
   "name": "python3"
  },
  "language_info": {
   "codemirror_mode": {
    "name": "ipython",
    "version": 3
   },
   "file_extension": ".py",
   "mimetype": "text/x-python",
   "name": "python",
   "nbconvert_exporter": "python",
   "pygments_lexer": "ipython3",
   "version": "3.8.8"
  }
 },
 "nbformat": 4,
 "nbformat_minor": 5
}
